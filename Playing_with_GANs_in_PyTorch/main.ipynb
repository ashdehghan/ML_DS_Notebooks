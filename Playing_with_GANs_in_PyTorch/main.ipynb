{
 "cells": [
  {
   "cell_type": "code",
   "execution_count": 1,
   "id": "1479fa74-f3a4-4b0d-87e8-1ddea87184b2",
   "metadata": {},
   "outputs": [],
   "source": [
    "import os\n",
    "import torch\n",
    "from torch import nn\n",
    "from torchvision.datasets import MNIST\n",
    "from torch.utils.data import DataLoader\n",
    "from torchvision import transforms\n",
    "import numpy as np\n",
    "import matplotlib.pyplot as plt\n",
    "import uuid"
   ]
  },
  {
   "cell_type": "code",
   "execution_count": 2,
   "id": "5fa87b57-6fda-4bbb-a050-a0f68c0fa70c",
   "metadata": {},
   "outputs": [],
   "source": [
    "# Configurable variables\n",
    "NUM_EPOCHS = 50\n",
    "NOISE_DIMENSION = 50\n",
    "BATCH_SIZE = 128\n",
    "TRAIN_ON_GPU = True\n",
    "UNIQUE_RUN_ID = str(uuid.uuid4())\n",
    "PRINT_STATS_AFTER_BATCH = 50\n",
    "OPTIMIZER_LR = 0.0002\n",
    "OPTIMIZER_BETAS = (0.5, 0.999)\n",
    "GENERATOR_OUTPUT_IMAGE_SHAPE = 28 * 28 * 1"
   ]
  },
  {
   "cell_type": "code",
   "execution_count": 3,
   "id": "2bfcecfe-182f-485b-a2cc-8418ecfd86fe",
   "metadata": {},
   "outputs": [],
   "source": [
    "# Speed ups\n",
    "torch.autograd.set_detect_anomaly(False)\n",
    "torch.autograd.profiler.profile(False)\n",
    "torch.autograd.profiler.emit_nvtx(False)\n",
    "torch.backends.cudnn.benchmark = True"
   ]
  },
  {
   "cell_type": "code",
   "execution_count": 5,
   "id": "e33c8fdd-c46d-4ae9-a64d-2ce27f41aa64",
   "metadata": {},
   "outputs": [],
   "source": [
    "class Generator(nn.Module):\n",
    "    \"\"\"\n",
    "    Vanilla GAN Generator\n",
    "    \"\"\"\n",
    "    def __init__(self,):\n",
    "        super().__init__()\n",
    "        self.layers = nn.Sequential(\n",
    "          # First upsampling\n",
    "          nn.Linear(NOISE_DIMENSION, 128, bias=False),\n",
    "          nn.BatchNorm1d(128, 0.8),\n",
    "          nn.LeakyReLU(0.25),\n",
    "          # Second upsampling\n",
    "          nn.Linear(128, 256, bias=False),\n",
    "          nn.BatchNorm1d(256, 0.8),\n",
    "          nn.LeakyReLU(0.25),\n",
    "          # Third upsampling\n",
    "          nn.Linear(256, 512, bias=False),\n",
    "          nn.BatchNorm1d(512, 0.8),\n",
    "          nn.LeakyReLU(0.25),\n",
    "          # Final upsampling\n",
    "          nn.Linear(512, GENERATOR_OUTPUT_IMAGE_SHAPE, bias=False),\n",
    "          nn.Tanh()\n",
    "        )\n",
    "    \n",
    "    def forward(self, x):\n",
    "        \"\"\"Forward pass\"\"\"\n",
    "        return self.layers(x)"
   ]
  },
  {
   "cell_type": "code",
   "execution_count": 6,
   "id": "bbde7c12-0afb-451a-bdbb-924b42436745",
   "metadata": {},
   "outputs": [],
   "source": [
    "class Discriminator(nn.Module):\n",
    "    \"\"\"\n",
    "    Vanilla GAN Discriminator\n",
    "    \"\"\"\n",
    "    def __init__(self):\n",
    "        super().__init__()\n",
    "        self.layers = nn.Sequential(\n",
    "          nn.Linear(GENERATOR_OUTPUT_IMAGE_SHAPE, 1024), \n",
    "          nn.LeakyReLU(0.25),\n",
    "          nn.Linear(1024, 512), \n",
    "          nn.LeakyReLU(0.25),\n",
    "          nn.Linear(512, 256), \n",
    "          nn.LeakyReLU(0.25),\n",
    "          nn.Linear(256, 1),\n",
    "          nn.Sigmoid()\n",
    "        )\n",
    "\n",
    "    def forward(self, x):\n",
    "        \"\"\"Forward pass\"\"\"\n",
    "        return self.layers(x)"
   ]
  },
  {
   "cell_type": "code",
   "execution_count": null,
   "id": "24375c84-930c-4186-9f72-e8af1d0aba6f",
   "metadata": {},
   "outputs": [],
   "source": []
  }
 ],
 "metadata": {
  "kernelspec": {
   "display_name": "Python 3 (ipykernel)",
   "language": "python",
   "name": "python3"
  },
  "language_info": {
   "codemirror_mode": {
    "name": "ipython",
    "version": 3
   },
   "file_extension": ".py",
   "mimetype": "text/x-python",
   "name": "python",
   "nbconvert_exporter": "python",
   "pygments_lexer": "ipython3",
   "version": "3.11.7"
  }
 },
 "nbformat": 4,
 "nbformat_minor": 5
}
